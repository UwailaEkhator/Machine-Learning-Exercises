{
 "cells": [
  {
   "cell_type": "markdown",
   "id": "1409df75",
   "metadata": {},
   "source": [
    "# Ekhator Uwaila's Notebook\n",
    "## Machine Learning Midterm"
   ]
  },
  {
   "cell_type": "markdown",
   "id": "40feddb9",
   "metadata": {},
   "source": [
    "Question 1 (20 points): Design and implement an approach using the power method to determine the first dimension of the PCA transformation (do not use scikit-learn library and SVD decomposition).\n",
    "\n",
    "Question 2 (20 points): Design and implement an approach to determine the second dimension of the PCA transformation (do not use scikit-learn library and SVD decomposition).\n",
    "\n",
    "Extra Credit (10 points): Design and implement a gradient approach to determine the first and second dimensions of the PCA transformation by using a gradient optimization approach (compute derivatives). Suggestion to optimize the Lagrange function.\n",
    "\n",
    "Question 3 (10 points): Describe the benefit of the power method w.r.t. the SVD approach for the PCA transformation.\n",
    "\n",
    "Question 4 (20 points): By using a binary classifier (logistic regression or SVM) please implement it in Python with the two different procedures (one vs. one, one vs. rest) to handle the problem of more than two different classes (use the iris dataset). Do not use scikit-learn library for the main procedures, but you can use scikit-learn library for the binary logistic regression and SVM. For reference use the following link https://en.wikipedia.org/wiki/Multiclass_classification\n",
    "\n",
    "Question 5 (20 points): Extensively describe the overfitting and underfitting problem. Use execution examples with decision tree and SVM (with and without kernels and their parameters). You can use the scikit implementations of decision tree and SVM.\n",
    "\n",
    "Question 6 (10 points): Show examples or situations when the use of kernel procedure is more efficient in terms of training and prediction computational time w.r.t polynomial features transformation.\n",
    "\n",
    "Question 7 (10 points): Write a procedure to estimate in the SVC classifier (in Scikit) the best kernel (RBF, Polynomial, sigmoid), the best gamma or degree, and the best C. Use the grid search in Scikit without implementing it. Your approach should determine the best parameters.\n",
    "\n",
    "Use the following reference: https://scikitlearn.org/stable/modules/generated/sklearn.model_selection.GridSearchCV.html#sklearn.model_selection.GridSearchCV https://scikit-learn.org/stable/modules/grid_search.html\n",
    "\n",
    "Question 8 (10 points): Create examples to explain the properties and the importance of the following kernels: Graph kernel, String kernel, Sigmoid kernel. Search on the web."
   ]
  },
  {
   "cell_type": "markdown",
   "id": "0727e573",
   "metadata": {},
   "source": [
    "### Question 1:\n",
    "\n",
    "Design and implement an approach using the power method to determine the first dimension of the PCA transformation (do not use scikit-learn library and SVD decomposition)."
   ]
  },
  {
   "cell_type": "code",
   "execution_count": 11,
   "id": "16a90f5b",
   "metadata": {},
   "outputs": [],
   "source": [
    "import numpy as np\n",
    "#seed for reproducibility\n",
    "np.random.seed(100)"
   ]
  },
  {
   "cell_type": "markdown",
   "id": "71773cd4",
   "metadata": {},
   "source": [
    "Note for Power method:<br>\n",
    "$ X^{(1)} = \\frac{AX^{(0)}}{||AX^{(0)}||} $ <br>\n",
    "Also,<br>\n",
    "$A = \\frac{1}{m} \\sum^{m}_{i=1} X^{(i)} (X^{(i)})^{T}$ \n",
    "<br>\n",
    "where A = covariance matrix<br>\n",
    "$X^{(0)}$ = random initial vector which i represented as 'v' in my code <br>\n",
    "$ X^{(1)}$ = eigenvector of the matrix A corresponding to its largest eigenvalue, this is v_new in my code"
   ]
  },
  {
   "cell_type": "code",
   "execution_count": 35,
   "id": "a62c0fcd",
   "metadata": {},
   "outputs": [],
   "source": [
    "#Function to standardize the data\n",
    "def my_PCA(X, num_iterations=1000, tolerance=1e-6):\n",
    "    \"\"\"Centering the data\"\"\"\n",
    "    centered_data = (X - np.mean(X, axis=0))\n",
    "    \n",
    "    \"\"\"Compute the covariance matrix of X\"\"\"\n",
    "    A = np.cov(centered_data, rowvar=False)\n",
    "    \n",
    "    \"\"\"Apply the power method to find the dominant eigenvector of covariance matrix A\"\"\"\n",
    "    #seed for reproducibility\n",
    "    np.random.seed(100)\n",
    "    #random initial vector\n",
    "    v = np.random.rand(A.shape[1])\n",
    "    #normalize\n",
    "    v = v / np.linalg.norm(v)\n",
    "    \n",
    "    for _ in range(num_iterations):\n",
    "        #multiply by covariance matrix A\n",
    "        v_new = np.dot(A, v)\n",
    "        #normalize\n",
    "        v_new = v_new / np.linalg.norm(v_new)\n",
    "        \n",
    "        #checking for convergence\n",
    "        if np.linalg.norm(v - v_new) < tolerance:\n",
    "            break\n",
    "        v = v_new\n",
    "        \n",
    "    return v_new"
   ]
  },
  {
   "cell_type": "code",
   "execution_count": 53,
   "id": "b4e870b4",
   "metadata": {},
   "outputs": [],
   "source": [
    "#Testing it with Random Numbers\n",
    "X = np.random.rand(100, 5) "
   ]
  },
  {
   "cell_type": "code",
   "execution_count": 27,
   "id": "031b284d",
   "metadata": {},
   "outputs": [
    {
     "data": {
      "text/plain": [
       "array([ 0.77730178, -0.03295761, -0.45234777,  0.03784741, -0.43435563])"
      ]
     },
     "execution_count": 27,
     "metadata": {},
     "output_type": "execute_result"
    }
   ],
   "source": [
    "my_PCA(X)"
   ]
  },
  {
   "cell_type": "code",
   "execution_count": 29,
   "id": "e3a9f463",
   "metadata": {},
   "outputs": [],
   "source": [
    "from sklearn.decomposition import PCA"
   ]
  },
  {
   "cell_type": "code",
   "execution_count": 33,
   "id": "32b11e73",
   "metadata": {},
   "outputs": [
    {
     "name": "stdout",
     "output_type": "stream",
     "text": [
      "Number of Principal Components: 1\n",
      "\n",
      "Principal Components (Eigen Vectors): \n",
      " [[ 0.77730215 -0.03295748 -0.45234775  0.03783931 -0.43435569]]\n"
     ]
    }
   ],
   "source": [
    "#using sklearn to test if my_PCA function works well\n",
    "pc = PCA(n_components=1, random_state=100)\n",
    "X_PCA = pc.fit(X)\n",
    "\n",
    "\n",
    "print(f\"Number of Principal Components: {pc.n_components}\")\n",
    "print()\n",
    "print(f\"Principal Components (Eigen Vectors): \\n {pc.components_}\")\n"
   ]
  },
  {
   "cell_type": "markdown",
   "id": "a6c6d804",
   "metadata": {},
   "source": [
    "### Question 2\n",
    "Design and implement an approach to determine the second dimension of the PCA transformation (do not use scikit-learn library and SVD decomposition).\n",
    "<br>\n",
    "\n",
    "I also utilized the Power method just like in Question 1, the only difference is that I subtracted the components of the data that align with PC1, that is the influence of PC1 on the original data. This makes PC2 to be orthogonal to PC1. This method is known as matrix deflation.<br> [Reference](https://wiki.math.uwaterloo.ca/statwiki/index.php?title=deflation_Methods_for_Sparse_PCA)\n"
   ]
  },
  {
   "cell_type": "code",
   "execution_count": 31,
   "id": "13e24970",
   "metadata": {},
   "outputs": [],
   "source": [
    "#function to find the second PC using Power method\n",
    "def my_second_PCA(X, num_iterations=1000, tolerance=1e-6):\n",
    "    \"\"\"Centering the data\"\"\"\n",
    "    centered_data = (X - np.mean(X, axis=0))\n",
    "    \n",
    "    \"\"\"Compute the covariance matrix of X\"\"\"\n",
    "    A = np.cov(centered_data, rowvar=False)\n",
    "    \n",
    "    \"\"\"Apply the power method to find the dominant eigenvector of covariance matrix A\"\"\"\n",
    "    #seed for reproducibility\n",
    "    np.random.seed(100)  \n",
    "    #random initial vector\n",
    "    v = np.random.rand(A.shape[1])\n",
    "    #normalize\n",
    "    v = v / np.linalg.norm(v)\n",
    "    \n",
    "    for _ in range(num_iterations):\n",
    "        #multiplying by covariance matrix A\n",
    "        v_new = np.dot(A, v)\n",
    "        #normalize\n",
    "        v_new = v_new / np.linalg.norm(v_new)\n",
    "        \n",
    "        #checking for convergence\n",
    "        if np.linalg.norm(v - v_new) < tolerance:\n",
    "            break\n",
    "        v = v_new\n",
    "    \n",
    "    #store the first principal component\n",
    "    first_pc = v_new\n",
    "    \n",
    "    \"\"\"Remove the influence of the first principal component from the data\"\"\"\n",
    "    X_minus_first_pc = centered_data - centered_data.dot(first_pc.reshape(-1, 1)) * first_pc.reshape(1, -1)\n",
    "    \n",
    "    \"\"\"Compute the covariance matrix of the modified data.\"\"\"\n",
    "    A_minus_first_pc = np.cov(X_minus_first_pc, rowvar=False)\n",
    "    \n",
    "    \"\"\"Apply the power method to find the second dominant eigenvector.\"\"\"\n",
    "    np.random.seed(200)\n",
    "    v = np.random.rand(A_minus_first_pc.shape[1])\n",
    "    v = v / np.linalg.norm(v)\n",
    "    \n",
    "    for _ in range(num_iterations):\n",
    "        v_new = np.dot(A_minus_first_pc, v)\n",
    "        v_new = v_new / np.linalg.norm(v_new)\n",
    "        \n",
    "        \n",
    "        if np.linalg.norm(v - v_new) < tolerance:\n",
    "            break\n",
    "        v = v_new\n",
    "    \n",
    "    #return the second pc\n",
    "    return v_new\n"
   ]
  },
  {
   "cell_type": "code",
   "execution_count": 32,
   "id": "4be30513",
   "metadata": {},
   "outputs": [
    {
     "data": {
      "text/plain": [
       "array([-0.04636812, -0.01684603, -0.00194531,  0.99875341,  0.00735197])"
      ]
     },
     "execution_count": 32,
     "metadata": {},
     "output_type": "execute_result"
    }
   ],
   "source": [
    "my_second_PCA(X)"
   ]
  },
  {
   "cell_type": "code",
   "execution_count": 34,
   "id": "d593a1e9",
   "metadata": {},
   "outputs": [
    {
     "name": "stdout",
     "output_type": "stream",
     "text": [
      "Number of Principal Components: 2\n",
      "\n",
      "Principal Components (Eigen Vectors): \n",
      " [[ 0.77730215 -0.03295748 -0.45234775  0.03783931 -0.43435569]\n",
      " [-0.04636405 -0.01685144 -0.00194779  0.99875356  0.00734359]]\n"
     ]
    }
   ],
   "source": [
    "#using sklearn to test if my_second_PCA function works well\n",
    "pc = PCA(n_components=2, random_state=100)\n",
    "X_PCA = pc.fit(X)\n",
    "\n",
    "\n",
    "print(f\"Number of Principal Components: {pc.n_components}\")\n",
    "print()\n",
    "print(f\"Principal Components (Eigen Vectors): \\n {pc.components_}\")\n"
   ]
  },
  {
   "cell_type": "markdown",
   "id": "97cf8227",
   "metadata": {},
   "source": [
    "### Question 3:\n",
    "Describe the benefit of the power method w.r.t. the SVD approach for the PCA transformation.\n",
    "<br>\n",
    "References:<br>\n",
    "[Reference1](https://www.linkedin.com/advice/1/what-pros-cons-using-power-iteration-finding#:~:text=2%20Advantages%20of%20power%20iteration,-Power%20iteration%20has&text=The%20algorithm%20only%20requires%20basic,or%20storage%20for%20intermediate%20results.)<br>\n",
    "[Reference2](https://medium.com/@shruti.dhumne/singular-value-decomposition-svd-65a2c1ff9967)"
   ]
  },
  {
   "cell_type": "markdown",
   "id": "c4b1964d",
   "metadata": {},
   "source": [
    "- SVD has a high computational complexity especially when dealing with large matrices, because it has to decompose the entire matrix into singular vectors and values. Power Iteration method is advantageous here because it is more computationally efficient, because it does not involve complex decompositions or operations. Therfore it converges faster. Also the power method is an iterative method, unlike the SVD, so we do not need to compute all principal components at once. This makes it faster."
   ]
  },
  {
   "cell_type": "markdown",
   "id": "2c0d3b42",
   "metadata": {},
   "source": [
    "### Question 4:\n",
    "\n",
    "By using a binary classifier (logistic regression or SVM) please implement it in Python with the two different procedures (one vs. one, one vs. rest) to handle the problem of more than two different classes (use the iris dataset). Do not use scikit-learn library for the main procedures, but you can use scikit-learn library for the binary logistic regression and SVM. For reference use the following link https://en.wikipedia.org/wiki/Multiclass_classification"
   ]
  },
  {
   "cell_type": "code",
   "execution_count": 28,
   "id": "acb1d87e",
   "metadata": {},
   "outputs": [],
   "source": [
    "from sklearn.datasets import load_iris\n",
    "from sklearn.model_selection import train_test_split\n",
    "from sklearn.linear_model import LogisticRegression\n",
    "from sklearn.svm import SVC"
   ]
  },
  {
   "cell_type": "code",
   "execution_count": 91,
   "id": "1d3b3edc",
   "metadata": {},
   "outputs": [],
   "source": [
    "iris = load_iris()\n",
    "X, y = iris.data, iris.target\n",
    "X_train, X_test, y_train, y_test = train_test_split(X, y, test_size=0.2, random_state=100)\n"
   ]
  },
  {
   "cell_type": "code",
   "execution_count": 76,
   "id": "0db703d5",
   "metadata": {},
   "outputs": [],
   "source": [
    "def one_vs_rest(X_train, y_train, X_test):\n",
    "   \n",
    "    #train classifiers\n",
    "    \n",
    "    #create an empty list to stored the trained log regression models(one for each class in the dataset)\n",
    "    one_vs_rest_clfs = []\n",
    "    classes = list(np.unique(y_train))\n",
    "    for i in classes:\n",
    "        y_train_log = [1 if x == i else 0 for x in y_train]\n",
    "        logistic = LogisticRegression()\n",
    "        logistic = logistic.fit(X_train, y_train_log)\n",
    "        one_vs_rest_clfs.append(logistic)\n",
    "\n",
    "    #predict\n",
    "    probabilities = [classifier.predict_proba(X_test)[:, 1] for classifier in one_vs_rest_clfs]\n",
    "    X_test_pred = np.argmax(probabilities, axis=0)\n",
    "\n",
    "    return X_test_pred\n"
   ]
  },
  {
   "cell_type": "code",
   "execution_count": 77,
   "id": "7e8beed2",
   "metadata": {},
   "outputs": [],
   "source": [
    "predicted_ylabels = one_vs_rest(X_train, y_train, X_test)"
   ]
  },
  {
   "cell_type": "code",
   "execution_count": 94,
   "id": "3d3796f3",
   "metadata": {},
   "outputs": [
    {
     "name": "stdout",
     "output_type": "stream",
     "text": [
      "Accuracy: 0.9666666666666667\n"
     ]
    }
   ],
   "source": [
    " #Evaluate predictions\n",
    "accuracy = accuracy_score(y_test, predicted_ylabels)\n",
    "print(\"Accuracy:\", accuracy)"
   ]
  },
  {
   "cell_type": "code",
   "execution_count": 84,
   "id": "daf61580",
   "metadata": {},
   "outputs": [],
   "source": [
    "def one_vs_one(X_train, y_train, X_test):\n",
    "    #create lists store log regression classifiers and classes\n",
    "    ovo_classifiers = []\n",
    "    class_pairs = []\n",
    "    classes = list(np.unique(y_train))\n",
    "\n",
    "    #train a classifier for each pair of classes\n",
    "    for i in classes:\n",
    "        for j in range(i+1, len(classes)):\n",
    "            #select data for the current pair of classes\n",
    "            pair_filter = np.where((y_train == classes[i]) | (y_train == classes[j]))\n",
    "            X_train_pair = X_train[pair_filter]\n",
    "            y_train_pair = y_train[pair_filter]\n",
    "\n",
    "            #adjusting labels for the current binary classification task\n",
    "            y_train_binary = np.where(y_train_pair == classes[i], 0, 1)\n",
    "            \n",
    "            #train the log regression classifier for the current pair\n",
    "            logistic = LogisticRegression()\n",
    "            logistic.fit(X_train_pair, y_train_binary)\n",
    "            ovo_classifiers.append(logistic)\n",
    "            class_pairs.append((classes[i], classes[j]))\n",
    "\n",
    "    #prediction using classifiers and vote\n",
    "    predictions = np.zeros((len(X_test), len(classes)))\n",
    "\n",
    "    #each classifier votes for its classes\n",
    "    for classifier, (class1, class2) in zip(ovo_classifiers, class_pairs):\n",
    "        pred = classifier.predict(X_test)\n",
    "        for idx, p in enumerate(pred):\n",
    "            if p == 0:\n",
    "                predictions[idx, class1] += 1\n",
    "            else:\n",
    "                predictions[idx, class2] += 1\n",
    "\n",
    "    #the class with the most votes is chosen as the prediction\n",
    "    X_test_pred = np.argmax(predictions, axis=1)\n",
    "\n",
    "    return X_test_pred\n"
   ]
  },
  {
   "cell_type": "code",
   "execution_count": 85,
   "id": "b52d39dc",
   "metadata": {},
   "outputs": [],
   "source": [
    "predicted_ylabels2 = one_vs_one(X_train, y_train, X_test)"
   ]
  },
  {
   "cell_type": "code",
   "execution_count": 93,
   "id": "b8966d3f",
   "metadata": {},
   "outputs": [
    {
     "name": "stdout",
     "output_type": "stream",
     "text": [
      "Accuracy: 0.9666666666666667\n"
     ]
    }
   ],
   "source": [
    " #Evaluate predictions\n",
    "accuracy = accuracy_score(y_test, predicted_ylabels2)\n",
    "print(\"Accuracy:\", accuracy)"
   ]
  },
  {
   "cell_type": "markdown",
   "id": "5a0aff91",
   "metadata": {},
   "source": [
    "### Question 5:\n",
    "Extensively describe the overfitting and underfitting problem. Use execution examples with decision tree and SVM (with and without kernels and their parameters). You can use the scikit implementations of decision tree and SVM.\n",
    "\n",
    "#### Explanation of Overfitting\n",
    "A model that fits the training data too well is said to be overfitting. When a model learns so much about the detail and noise in the training data that it adversely affects the model's performance on fresh data, this is known as overfitting. This indicates that the model detects and interprets noise or random oscillations in the training set as concepts. The problem is that these concepts do not apply to new data and negatively impact the models ability to generalize.\n",
    "\n",
    "#### Explanation of Underfitting\n",
    "A model that is underfit is one that is unable to accurately represent the training set or make inferences from data it has not seen before. A machine learning model that is underfit is unsuitable as it will perform poorly on the training set. Underfitting is often not discussed as it is easy to detect given a good performance metric. The remedy is to move on and try alternate machine learning algorithms. Nevertheless, it does provide a good contrast to the problem of overfitting.\n",
    "\n",
    "[Reference 1](https://machinelearningmastery.com/overfitting-and-underfitting-with-machine-learning-algorithms/)"
   ]
  },
  {
   "cell_type": "code",
   "execution_count": 96,
   "id": "9830cf15",
   "metadata": {},
   "outputs": [],
   "source": [
    "from sklearn.svm import SVC\n",
    "from sklearn.metrics import accuracy_score\n",
    "from sklearn.datasets import load_digits\n",
    "import numpy as np\n",
    "from sklearn.model_selection import validation_curve\n",
    "import matplotlib.pyplot as plt"
   ]
  },
  {
   "cell_type": "code",
   "execution_count": 101,
   "id": "dccdd354",
   "metadata": {},
   "outputs": [
    {
     "data": {
      "image/png": "[encoded data removed]",
      "text/plain": [
       "<Figure size 640x480 with 1 Axes>"
      ]
     },
     "metadata": {},
     "output_type": "display_data"
    }
   ],
   "source": [
    "#SVM example showing overfitting and underfitting\n",
    "X, y = load_digits(return_X_y=True)\n",
    "subset_mask = np.isin(y, [1, 2])  #binary classification: 1 vs 2\n",
    "X, y = X[subset_mask], y[subset_mask]\n",
    "\n",
    "\n",
    "param_range = np.logspace(-6, -1, 5)\n",
    "train_scores, test_scores = validation_curve(svm.SVC(),X,y,param_name=\"gamma\",\n",
    "                                             param_range=param_range,\n",
    "                                             scoring=\"accuracy\",n_jobs=2,)\n",
    "train_scores_mean = np.mean(train_scores, axis=1)\n",
    "train_scores_std = np.std(train_scores, axis=1)\n",
    "test_scores_mean = np.mean(test_scores, axis=1)\n",
    "test_scores_std = np.std(test_scores, axis=1)\n",
    "\n",
    "\n",
    "plt.figure(figsize=(8, 6), dpi=80)\n",
    "plt.semilogx(param_range, train_scores_mean, label=\"Training score\", color=\"pink\", lw=2)\n",
    "plt.fill_between(param_range,train_scores_mean - train_scores_std,\n",
    "                 train_scores_mean + train_scores_std,alpha=0.2,color=\"pink\",lw=2,)\n",
    "plt.semilogx(param_range, test_scores_mean, label=\"Cross-validation score\", color=\"black\", lw=2)\n",
    "plt.fill_between(param_range,test_scores_mean - test_scores_std,\n",
    "                 test_scores_mean + test_scores_std,alpha=0.2,color=\"black\",lw=2,)\n",
    "plt.legend(loc=\"lower right\")\n",
    "plt.title(\"Validation Curve with SVM\")\n",
    "plt.xlabel(r\"$\\gamma$\")\n",
    "plt.ylabel(\"Score\")\n",
    "plt.ylim(0.0, 1.1)\n",
    "plt.grid()\n",
    "plt.show()"
   ]
  },
  {
   "cell_type": "markdown",
   "id": "4d34c1b6",
   "metadata": {},
   "source": [
    "The diagram above displays the training and validation scores of a Support Vector Machine (SVM) for different values of the kernel parameter gamma. We can see that both the training and validation scores are low for lower gamma values. This is called underfitting. <br>\n",
    "Medium gamma values will yield high values for both scores, suggesting that the classifier is performing reasonably well. <br>\n",
    "Also we can see that the classifier overfits when gamma is very high, because it performs well on training data but poorly on test data."
   ]
  },
  {
   "cell_type": "code",
   "execution_count": 100,
   "id": "8492ed5e",
   "metadata": {
    "scrolled": false
   },
   "outputs": [
    {
     "data": {
      "image/png": "[encoded data removed]",
      "text/plain": [
       "<Figure size 640x480 with 1 Axes>"
      ]
     },
     "metadata": {},
     "output_type": "display_data"
    }
   ],
   "source": [
    "#Decision tree example showing overfitting and underfitting\n",
    "from sklearn.tree import DecisionTreeClassifier\n",
    "X, y = make_classification(n_samples=10000, n_features=20, n_informative=5, n_redundant=15, random_state=1)\n",
    "X_train, X_test, y_train, y_test = train_test_split(X, y, test_size=0.3)\n",
    "train_scores, test_scores = list(), list()\n",
    "values = [i for i in range(1, 21)]\n",
    "\n",
    "for i in values:\n",
    "        model = DecisionTreeClassifier(max_depth=i)\n",
    "        model.fit(X_train, y_train)\n",
    "        train_yhat = model.predict(X_train)\n",
    "        train_acc = accuracy_score(y_train, train_yhat)\n",
    "        train_scores.append(train_acc)\n",
    "        test_yhat = model.predict(X_test)\n",
    "        test_acc = accuracy_score(y_test, test_yhat)\n",
    "        test_scores.append(test_acc)\n",
    "                \n",
    "#plot of train and test scores vs tree depth\n",
    "plt.figure(figsize=(8, 6), dpi=80)\n",
    "plt.plot(values, train_scores, '-o',color=\"pink\", label='Train')\n",
    "plt.plot(values, test_scores, '-o', color=\"black\", label='Test')\n",
    "plt.xlabel(\"tree depths\")\n",
    "plt.ylabel(\"Score\")\n",
    "plt.legend(loc=\"lower right\")\n",
    "plt.grid()\n",
    "plt.show()"
   ]
  },
  {
   "cell_type": "markdown",
   "id": "5a6bd979",
   "metadata": {},
   "source": [
    "From the plot above we can see that, when the tree depths goes above 3, the model begins to overfit the training dataset, and performs poorly on the test data. For lower values of tree depth, the training and test scores are low, this is underfitting."
   ]
  },
  {
   "cell_type": "markdown",
   "id": "2afa60e5",
   "metadata": {},
   "source": [
    "### Question 6: \n",
    "\n",
    "Show examples or situations when the use of kernel procedure is more efficient in terms of training and prediction computational time w.r.t polynomial features transformation."
   ]
  },
  {
   "cell_type": "markdown",
   "id": "22dac62d",
   "metadata": {},
   "source": [
    "- In cases where the data is high dimensional i.e has many features,using polynomial features transformation can lead to explosion as the data continues to increase, and so this would take more computational time. It is better to use a kernel in this case. Ill illustrate below:"
   ]
  },
  {
   "cell_type": "code",
   "execution_count": 73,
   "id": "132787d5",
   "metadata": {},
   "outputs": [],
   "source": [
    "from sklearn.datasets import make_classification"
   ]
  },
  {
   "cell_type": "code",
   "execution_count": 74,
   "id": "c8950211",
   "metadata": {},
   "outputs": [],
   "source": [
    "#generate a random classification dataswt\n",
    "X, y = make_classification(n_samples=50000, n_features=20, \n",
    "                                       n_informative=5, n_redundant=15, random_state=100)\n",
    "#split into train test\n",
    "X_train, X_test, y_train, y_test = train_test_split(X, y, test_size=0.2)"
   ]
  },
  {
   "cell_type": "code",
   "execution_count": 76,
   "id": "17b63151",
   "metadata": {},
   "outputs": [],
   "source": [
    "#Using polynomial features transformation\n",
    "from sklearn.preprocessing import PolynomialFeatures"
   ]
  },
  {
   "cell_type": "code",
   "execution_count": 78,
   "id": "59ade526",
   "metadata": {},
   "outputs": [
    {
     "name": "stdout",
     "output_type": "stream",
     "text": [
      "CPU times: user 1min 4s, sys: 261 ms, total: 1min 5s\n",
      "Wall time: 1min 5s\n"
     ]
    },
    {
     "data": {
      "text/html": [
       "<style>#sk-container-id-4 {color: black;}#sk-container-id-4 pre{padding: 0;}#sk-container-id-4 div.sk-toggleable {background-color: white;}#sk-container-id-4 label.sk-toggleable__label {cursor: pointer;display: block;width: 100%;margin-bottom: 0;padding: 0.3em;box-sizing: border-box;text-align: center;}#sk-container-id-4 label.sk-toggleable__label-arrow:before {content: \"▸\";float: left;margin-right: 0.25em;color: #696969;}#sk-container-id-4 label.sk-toggleable__label-arrow:hover:before {color: black;}#sk-container-id-4 div.sk-estimator:hover label.sk-toggleable__label-arrow:before {color: black;}#sk-container-id-4 div.sk-toggleable__content {max-height: 0;max-width: 0;overflow: hidden;text-align: left;background-color: #f0f8ff;}#sk-container-id-4 div.sk-toggleable__content pre {margin: 0.2em;color: black;border-radius: 0.25em;background-color: #f0f8ff;}#sk-container-id-4 input.sk-toggleable__control:checked~div.sk-toggleable__content {max-height: 200px;max-width: 100%;overflow: auto;}#sk-container-id-4 input.sk-toggleable__control:checked~label.sk-toggleable__label-arrow:before {content: \"▾\";}#sk-container-id-4 div.sk-estimator input.sk-toggleable__control:checked~label.sk-toggleable__label {background-color: #d4ebff;}#sk-container-id-4 div.sk-label input.sk-toggleable__control:checked~label.sk-toggleable__label {background-color: #d4ebff;}#sk-container-id-4 input.sk-hidden--visually {border: 0;clip: rect(1px 1px 1px 1px);clip: rect(1px, 1px, 1px, 1px);height: 1px;margin: -1px;overflow: hidden;padding: 0;position: absolute;width: 1px;}#sk-container-id-4 div.sk-estimator {font-family: monospace;background-color: #f0f8ff;border: 1px dotted black;border-radius: 0.25em;box-sizing: border-box;margin-bottom: 0.5em;}#sk-container-id-4 div.sk-estimator:hover {background-color: #d4ebff;}#sk-container-id-4 div.sk-parallel-item::after {content: \"\";width: 100%;border-bottom: 1px solid gray;flex-grow: 1;}#sk-container-id-4 div.sk-label:hover label.sk-toggleable__label {background-color: #d4ebff;}#sk-container-id-4 div.sk-serial::before {content: \"\";position: absolute;border-left: 1px solid gray;box-sizing: border-box;top: 0;bottom: 0;left: 50%;z-index: 0;}#sk-container-id-4 div.sk-serial {display: flex;flex-direction: column;align-items: center;background-color: white;padding-right: 0.2em;padding-left: 0.2em;position: relative;}#sk-container-id-4 div.sk-item {position: relative;z-index: 1;}#sk-container-id-4 div.sk-parallel {display: flex;align-items: stretch;justify-content: center;background-color: white;position: relative;}#sk-container-id-4 div.sk-item::before, #sk-container-id-4 div.sk-parallel-item::before {content: \"\";position: absolute;border-left: 1px solid gray;box-sizing: border-box;top: 0;bottom: 0;left: 50%;z-index: -1;}#sk-container-id-4 div.sk-parallel-item {display: flex;flex-direction: column;z-index: 1;position: relative;background-color: white;}#sk-container-id-4 div.sk-parallel-item:first-child::after {align-self: flex-end;width: 50%;}#sk-container-id-4 div.sk-parallel-item:last-child::after {align-self: flex-start;width: 50%;}#sk-container-id-4 div.sk-parallel-item:only-child::after {width: 0;}#sk-container-id-4 div.sk-dashed-wrapped {border: 1px dashed gray;margin: 0 0.4em 0.5em 0.4em;box-sizing: border-box;padding-bottom: 0.4em;background-color: white;}#sk-container-id-4 div.sk-label label {font-family: monospace;font-weight: bold;display: inline-block;line-height: 1.2em;}#sk-container-id-4 div.sk-label-container {text-align: center;}#sk-container-id-4 div.sk-container {/* jupyter's `normalize.less` sets `[hidden] { display: none; }` but bootstrap.min.css set `[hidden] { display: none !important; }` so we also need the `!important` here to be able to override the default hidden behavior on the sphinx rendered scikit-learn.org. See: https://github.com/scikit-learn/scikit-learn/issues/21755 */display: inline-block !important;position: relative;}#sk-container-id-4 div.sk-text-repr-fallback {display: none;}</style><div id=\"sk-container-id-4\" class=\"sk-top-container\"><div class=\"sk-text-repr-fallback\"><pre>SVC()</pre><b>In a Jupyter environment, please rerun this cell to show the HTML representation or trust the notebook. <br />On GitHub, the HTML representation is unable to render, please try loading this page with nbviewer.org.</b></div><div class=\"sk-container\" hidden><div class=\"sk-item\"><div class=\"sk-estimator sk-toggleable\"><input class=\"sk-toggleable__control sk-hidden--visually\" id=\"sk-estimator-id-6\" type=\"checkbox\" checked><label for=\"sk-estimator-id-6\" class=\"sk-toggleable__label sk-toggleable__label-arrow\">SVC</label><div class=\"sk-toggleable__content\"><pre>SVC()</pre></div></div></div></div></div>"
      ],
      "text/plain": [
       "SVC()"
      ]
     },
     "execution_count": 78,
     "metadata": {},
     "output_type": "execute_result"
    }
   ],
   "source": [
    "%%time\n",
    "#TRAINING\n",
    "\n",
    "#performing the transformation\n",
    "trans = PolynomialFeatures(degree=2).fit(X_train)\n",
    "X_train_poly = trans.transform(X_train)\n",
    "X_test_poly = trans.transform(X_test)\n",
    "\n",
    "svm_poly_model = svm.SVC()\n",
    "svm_poly_model.fit(X_train_poly, y_train)"
   ]
  },
  {
   "cell_type": "code",
   "execution_count": 80,
   "id": "0e7ae1d4",
   "metadata": {},
   "outputs": [
    {
     "name": "stdout",
     "output_type": "stream",
     "text": [
      "CPU times: user 14.6 s, sys: 20.5 ms, total: 14.6 s\n",
      "Wall time: 14.6 s\n"
     ]
    }
   ],
   "source": [
    "%%time\n",
    "y_pred = svm_poly_model.predict(X_test_poly)"
   ]
  },
  {
   "cell_type": "code",
   "execution_count": 81,
   "id": "f2ad30ab",
   "metadata": {},
   "outputs": [
    {
     "name": "stdout",
     "output_type": "stream",
     "text": [
      "Accuracy: 0.9546\n"
     ]
    }
   ],
   "source": [
    "#accuracy for poly features transformation and SVM\n",
    "accuracy = accuracy_score(y_test, y_pred)\n",
    "print(f\"Accuracy: {accuracy:.4f}\")"
   ]
  },
  {
   "cell_type": "code",
   "execution_count": 82,
   "id": "09d37718",
   "metadata": {},
   "outputs": [],
   "source": [
    "#Using rbf kernel"
   ]
  },
  {
   "cell_type": "code",
   "execution_count": 84,
   "id": "f2fb8ae0",
   "metadata": {},
   "outputs": [
    {
     "name": "stdout",
     "output_type": "stream",
     "text": [
      "CPU times: user 10 s, sys: 120 ms, total: 10.1 s\n",
      "Wall time: 10.1 s\n"
     ]
    },
    {
     "data": {
      "text/html": [
       "<style>#sk-container-id-5 {color: black;}#sk-container-id-5 pre{padding: 0;}#sk-container-id-5 div.sk-toggleable {background-color: white;}#sk-container-id-5 label.sk-toggleable__label {cursor: pointer;display: block;width: 100%;margin-bottom: 0;padding: 0.3em;box-sizing: border-box;text-align: center;}#sk-container-id-5 label.sk-toggleable__label-arrow:before {content: \"▸\";float: left;margin-right: 0.25em;color: #696969;}#sk-container-id-5 label.sk-toggleable__label-arrow:hover:before {color: black;}#sk-container-id-5 div.sk-estimator:hover label.sk-toggleable__label-arrow:before {color: black;}#sk-container-id-5 div.sk-toggleable__content {max-height: 0;max-width: 0;overflow: hidden;text-align: left;background-color: #f0f8ff;}#sk-container-id-5 div.sk-toggleable__content pre {margin: 0.2em;color: black;border-radius: 0.25em;background-color: #f0f8ff;}#sk-container-id-5 input.sk-toggleable__control:checked~div.sk-toggleable__content {max-height: 200px;max-width: 100%;overflow: auto;}#sk-container-id-5 input.sk-toggleable__control:checked~label.sk-toggleable__label-arrow:before {content: \"▾\";}#sk-container-id-5 div.sk-estimator input.sk-toggleable__control:checked~label.sk-toggleable__label {background-color: #d4ebff;}#sk-container-id-5 div.sk-label input.sk-toggleable__control:checked~label.sk-toggleable__label {background-color: #d4ebff;}#sk-container-id-5 input.sk-hidden--visually {border: 0;clip: rect(1px 1px 1px 1px);clip: rect(1px, 1px, 1px, 1px);height: 1px;margin: -1px;overflow: hidden;padding: 0;position: absolute;width: 1px;}#sk-container-id-5 div.sk-estimator {font-family: monospace;background-color: #f0f8ff;border: 1px dotted black;border-radius: 0.25em;box-sizing: border-box;margin-bottom: 0.5em;}#sk-container-id-5 div.sk-estimator:hover {background-color: #d4ebff;}#sk-container-id-5 div.sk-parallel-item::after {content: \"\";width: 100%;border-bottom: 1px solid gray;flex-grow: 1;}#sk-container-id-5 div.sk-label:hover label.sk-toggleable__label {background-color: #d4ebff;}#sk-container-id-5 div.sk-serial::before {content: \"\";position: absolute;border-left: 1px solid gray;box-sizing: border-box;top: 0;bottom: 0;left: 50%;z-index: 0;}#sk-container-id-5 div.sk-serial {display: flex;flex-direction: column;align-items: center;background-color: white;padding-right: 0.2em;padding-left: 0.2em;position: relative;}#sk-container-id-5 div.sk-item {position: relative;z-index: 1;}#sk-container-id-5 div.sk-parallel {display: flex;align-items: stretch;justify-content: center;background-color: white;position: relative;}#sk-container-id-5 div.sk-item::before, #sk-container-id-5 div.sk-parallel-item::before {content: \"\";position: absolute;border-left: 1px solid gray;box-sizing: border-box;top: 0;bottom: 0;left: 50%;z-index: -1;}#sk-container-id-5 div.sk-parallel-item {display: flex;flex-direction: column;z-index: 1;position: relative;background-color: white;}#sk-container-id-5 div.sk-parallel-item:first-child::after {align-self: flex-end;width: 50%;}#sk-container-id-5 div.sk-parallel-item:last-child::after {align-self: flex-start;width: 50%;}#sk-container-id-5 div.sk-parallel-item:only-child::after {width: 0;}#sk-container-id-5 div.sk-dashed-wrapped {border: 1px dashed gray;margin: 0 0.4em 0.5em 0.4em;box-sizing: border-box;padding-bottom: 0.4em;background-color: white;}#sk-container-id-5 div.sk-label label {font-family: monospace;font-weight: bold;display: inline-block;line-height: 1.2em;}#sk-container-id-5 div.sk-label-container {text-align: center;}#sk-container-id-5 div.sk-container {/* jupyter's `normalize.less` sets `[hidden] { display: none; }` but bootstrap.min.css set `[hidden] { display: none !important; }` so we also need the `!important` here to be able to override the default hidden behavior on the sphinx rendered scikit-learn.org. See: https://github.com/scikit-learn/scikit-learn/issues/21755 */display: inline-block !important;position: relative;}#sk-container-id-5 div.sk-text-repr-fallback {display: none;}</style><div id=\"sk-container-id-5\" class=\"sk-top-container\"><div class=\"sk-text-repr-fallback\"><pre>SVC()</pre><b>In a Jupyter environment, please rerun this cell to show the HTML representation or trust the notebook. <br />On GitHub, the HTML representation is unable to render, please try loading this page with nbviewer.org.</b></div><div class=\"sk-container\" hidden><div class=\"sk-item\"><div class=\"sk-estimator sk-toggleable\"><input class=\"sk-toggleable__control sk-hidden--visually\" id=\"sk-estimator-id-7\" type=\"checkbox\" checked><label for=\"sk-estimator-id-7\" class=\"sk-toggleable__label sk-toggleable__label-arrow\">SVC</label><div class=\"sk-toggleable__content\"><pre>SVC()</pre></div></div></div></div></div>"
      ],
      "text/plain": [
       "SVC()"
      ]
     },
     "execution_count": 84,
     "metadata": {},
     "output_type": "execute_result"
    }
   ],
   "source": [
    "%%time\n",
    "#TRAINING\n",
    "svm_normal_model = svm.SVC(kernel='rbf')\n",
    "svm_normal_model.fit(X_train, y_train)"
   ]
  },
  {
   "cell_type": "code",
   "execution_count": 86,
   "id": "63992efe",
   "metadata": {},
   "outputs": [
    {
     "name": "stdout",
     "output_type": "stream",
     "text": [
      "CPU times: user 4.33 s, sys: 12.1 ms, total: 4.34 s\n",
      "Wall time: 4.34 s\n"
     ]
    }
   ],
   "source": [
    "%%time\n",
    "#Evaluate\n",
    "y_pred = svm_normal_model.predict(X_test)"
   ]
  },
  {
   "cell_type": "code",
   "execution_count": 87,
   "id": "a57779a1",
   "metadata": {},
   "outputs": [
    {
     "name": "stdout",
     "output_type": "stream",
     "text": [
      "Accuracy: 0.9555\n"
     ]
    }
   ],
   "source": [
    "#accuracy for SVM witjout poly transformation\n",
    "accuracy = accuracy_score(y_test, y_pred)\n",
    "print(f\"Accuracy: {accuracy:.4f}\")"
   ]
  },
  {
   "cell_type": "markdown",
   "id": "dbf7fab0",
   "metadata": {},
   "source": [
    "- From the results above we can see that the data that was transformed using polynomial features took a longer time to train and evaluate. In this case where the data has plenty features, the kernal procedure is more efficient in term of computational time."
   ]
  },
  {
   "cell_type": "markdown",
   "id": "792d9db7",
   "metadata": {},
   "source": [
    "### Question 7\n",
    "\n",
    "Write a procedure to estimate in the SVC classifier (in Scikit) the best kernel (RBF, Polynomial, sigmoid), the best gamma or degree, and the best C. Use the grid search in Scikit without implementing it. Your approach should determine the best parameters."
   ]
  },
  {
   "cell_type": "markdown",
   "id": "622b7776",
   "metadata": {},
   "source": [
    "##### Explanation of C and gamma\n",
    "\n",
    "- C is the regularization parameter, it represents the penalty parameter of the error term. It can be explained as the degree of correct classification that the algorithm has to meet, it controls the tradeoff between correctly classifying datapoints and a smooth decision boundary. A larger C, means the model chooses more data points as support vectors, this may cause the problem of overfitting, and a smaller C may lead to underfitting. We need to choose an optimal C.\n",
    "- Gamma decides how much curvature we want in a decision boundary, that is how far away should the points be that we consider as support vectors. High gamma means only near points are considered, while Low gamma means far away points are also considered. We need to choose an optimal Gamma.\n",
    "\n",
    "[Reference](https://www.analyticsvidhya.com/blog/2021/06/support-vector-machine-better-understanding/#:~:text=The%20limitation%20of%20SVC%20is,we%20call%20it%20as%20SVM.)"
   ]
  },
  {
   "cell_type": "code",
   "execution_count": 67,
   "id": "731ec153",
   "metadata": {},
   "outputs": [
    {
     "data": {
      "text/html": [
       "<style>#sk-container-id-1 {color: black;}#sk-container-id-1 pre{padding: 0;}#sk-container-id-1 div.sk-toggleable {background-color: white;}#sk-container-id-1 label.sk-toggleable__label {cursor: pointer;display: block;width: 100%;margin-bottom: 0;padding: 0.3em;box-sizing: border-box;text-align: center;}#sk-container-id-1 label.sk-toggleable__label-arrow:before {content: \"▸\";float: left;margin-right: 0.25em;color: #696969;}#sk-container-id-1 label.sk-toggleable__label-arrow:hover:before {color: black;}#sk-container-id-1 div.sk-estimator:hover label.sk-toggleable__label-arrow:before {color: black;}#sk-container-id-1 div.sk-toggleable__content {max-height: 0;max-width: 0;overflow: hidden;text-align: left;background-color: #f0f8ff;}#sk-container-id-1 div.sk-toggleable__content pre {margin: 0.2em;color: black;border-radius: 0.25em;background-color: #f0f8ff;}#sk-container-id-1 input.sk-toggleable__control:checked~div.sk-toggleable__content {max-height: 200px;max-width: 100%;overflow: auto;}#sk-container-id-1 input.sk-toggleable__control:checked~label.sk-toggleable__label-arrow:before {content: \"▾\";}#sk-container-id-1 div.sk-estimator input.sk-toggleable__control:checked~label.sk-toggleable__label {background-color: #d4ebff;}#sk-container-id-1 div.sk-label input.sk-toggleable__control:checked~label.sk-toggleable__label {background-color: #d4ebff;}#sk-container-id-1 input.sk-hidden--visually {border: 0;clip: rect(1px 1px 1px 1px);clip: rect(1px, 1px, 1px, 1px);height: 1px;margin: -1px;overflow: hidden;padding: 0;position: absolute;width: 1px;}#sk-container-id-1 div.sk-estimator {font-family: monospace;background-color: #f0f8ff;border: 1px dotted black;border-radius: 0.25em;box-sizing: border-box;margin-bottom: 0.5em;}#sk-container-id-1 div.sk-estimator:hover {background-color: #d4ebff;}#sk-container-id-1 div.sk-parallel-item::after {content: \"\";width: 100%;border-bottom: 1px solid gray;flex-grow: 1;}#sk-container-id-1 div.sk-label:hover label.sk-toggleable__label {background-color: #d4ebff;}#sk-container-id-1 div.sk-serial::before {content: \"\";position: absolute;border-left: 1px solid gray;box-sizing: border-box;top: 0;bottom: 0;left: 50%;z-index: 0;}#sk-container-id-1 div.sk-serial {display: flex;flex-direction: column;align-items: center;background-color: white;padding-right: 0.2em;padding-left: 0.2em;position: relative;}#sk-container-id-1 div.sk-item {position: relative;z-index: 1;}#sk-container-id-1 div.sk-parallel {display: flex;align-items: stretch;justify-content: center;background-color: white;position: relative;}#sk-container-id-1 div.sk-item::before, #sk-container-id-1 div.sk-parallel-item::before {content: \"\";position: absolute;border-left: 1px solid gray;box-sizing: border-box;top: 0;bottom: 0;left: 50%;z-index: -1;}#sk-container-id-1 div.sk-parallel-item {display: flex;flex-direction: column;z-index: 1;position: relative;background-color: white;}#sk-container-id-1 div.sk-parallel-item:first-child::after {align-self: flex-end;width: 50%;}#sk-container-id-1 div.sk-parallel-item:last-child::after {align-self: flex-start;width: 50%;}#sk-container-id-1 div.sk-parallel-item:only-child::after {width: 0;}#sk-container-id-1 div.sk-dashed-wrapped {border: 1px dashed gray;margin: 0 0.4em 0.5em 0.4em;box-sizing: border-box;padding-bottom: 0.4em;background-color: white;}#sk-container-id-1 div.sk-label label {font-family: monospace;font-weight: bold;display: inline-block;line-height: 1.2em;}#sk-container-id-1 div.sk-label-container {text-align: center;}#sk-container-id-1 div.sk-container {/* jupyter's `normalize.less` sets `[hidden] { display: none; }` but bootstrap.min.css set `[hidden] { display: none !important; }` so we also need the `!important` here to be able to override the default hidden behavior on the sphinx rendered scikit-learn.org. See: https://github.com/scikit-learn/scikit-learn/issues/21755 */display: inline-block !important;position: relative;}#sk-container-id-1 div.sk-text-repr-fallback {display: none;}</style><div id=\"sk-container-id-1\" class=\"sk-top-container\"><div class=\"sk-text-repr-fallback\"><pre>GridSearchCV(estimator=SVC(),\n",
       "             param_grid={&#x27;C&#x27;: [0.01, 0.05, 0.1, 0.5, 1, 5, 10, 100, 1000],\n",
       "                         &#x27;gamma&#x27;: [0.01, 0.1, 0.5, 1, 10],\n",
       "                         &#x27;kernel&#x27;: [&#x27;rbf&#x27;, &#x27;poly&#x27;, &#x27;sigmoid&#x27;]})</pre><b>In a Jupyter environment, please rerun this cell to show the HTML representation or trust the notebook. <br />On GitHub, the HTML representation is unable to render, please try loading this page with nbviewer.org.</b></div><div class=\"sk-container\" hidden><div class=\"sk-item sk-dashed-wrapped\"><div class=\"sk-label-container\"><div class=\"sk-label sk-toggleable\"><input class=\"sk-toggleable__control sk-hidden--visually\" id=\"sk-estimator-id-1\" type=\"checkbox\" ><label for=\"sk-estimator-id-1\" class=\"sk-toggleable__label sk-toggleable__label-arrow\">GridSearchCV</label><div class=\"sk-toggleable__content\"><pre>GridSearchCV(estimator=SVC(),\n",
       "             param_grid={&#x27;C&#x27;: [0.01, 0.05, 0.1, 0.5, 1, 5, 10, 100, 1000],\n",
       "                         &#x27;gamma&#x27;: [0.01, 0.1, 0.5, 1, 10],\n",
       "                         &#x27;kernel&#x27;: [&#x27;rbf&#x27;, &#x27;poly&#x27;, &#x27;sigmoid&#x27;]})</pre></div></div></div><div class=\"sk-parallel\"><div class=\"sk-parallel-item\"><div class=\"sk-item\"><div class=\"sk-label-container\"><div class=\"sk-label sk-toggleable\"><input class=\"sk-toggleable__control sk-hidden--visually\" id=\"sk-estimator-id-2\" type=\"checkbox\" ><label for=\"sk-estimator-id-2\" class=\"sk-toggleable__label sk-toggleable__label-arrow\">estimator: SVC</label><div class=\"sk-toggleable__content\"><pre>SVC()</pre></div></div></div><div class=\"sk-serial\"><div class=\"sk-item\"><div class=\"sk-estimator sk-toggleable\"><input class=\"sk-toggleable__control sk-hidden--visually\" id=\"sk-estimator-id-3\" type=\"checkbox\" ><label for=\"sk-estimator-id-3\" class=\"sk-toggleable__label sk-toggleable__label-arrow\">SVC</label><div class=\"sk-toggleable__content\"><pre>SVC()</pre></div></div></div></div></div></div></div></div></div></div>"
      ],
      "text/plain": [
       "GridSearchCV(estimator=SVC(),\n",
       "             param_grid={'C': [0.01, 0.05, 0.1, 0.5, 1, 5, 10, 100, 1000],\n",
       "                         'gamma': [0.01, 0.1, 0.5, 1, 10],\n",
       "                         'kernel': ['rbf', 'poly', 'sigmoid']})"
      ]
     },
     "execution_count": 67,
     "metadata": {},
     "output_type": "execute_result"
    }
   ],
   "source": [
    "from sklearn.model_selection import GridSearchCV\n",
    "iris = datasets.load_iris()\n",
    "\n",
    "parameters = {'kernel':['rbf', 'poly', 'sigmoid'], \n",
    "              'C':[0.01, 0.05, 0.1, 0.5, 1, 5, 10, 100, 1000],  \n",
    "              'gamma':[0.01, 0.1, 0.5, 1, 10]\n",
    "             }\n",
    "\n",
    "svc = svm.SVC()\n",
    "clf = GridSearchCV(estimator = svc, param_grid = parameters, refit = True, verbose = 0)\n",
    "clf.fit(iris.data, iris.target)"
   ]
  },
  {
   "cell_type": "code",
   "execution_count": 68,
   "id": "bba3f09e",
   "metadata": {},
   "outputs": [
    {
     "name": "stdout",
     "output_type": "stream",
     "text": [
      "Best parameters:\n"
     ]
    },
    {
     "data": {
      "text/plain": [
       "{'C': 0.05, 'gamma': 0.1, 'kernel': 'poly'}"
      ]
     },
     "execution_count": 68,
     "metadata": {},
     "output_type": "execute_result"
    }
   ],
   "source": [
    "print(\"Best parameters:\")\n",
    "clf.best_params_"
   ]
  },
  {
   "cell_type": "code",
   "execution_count": 69,
   "id": "97afbcf6",
   "metadata": {},
   "outputs": [
    {
     "name": "stdout",
     "output_type": "stream",
     "text": [
      "Best estimator:\n"
     ]
    },
    {
     "data": {
      "text/html": [
       "<style>#sk-container-id-2 {color: black;}#sk-container-id-2 pre{padding: 0;}#sk-container-id-2 div.sk-toggleable {background-color: white;}#sk-container-id-2 label.sk-toggleable__label {cursor: pointer;display: block;width: 100%;margin-bottom: 0;padding: 0.3em;box-sizing: border-box;text-align: center;}#sk-container-id-2 label.sk-toggleable__label-arrow:before {content: \"▸\";float: left;margin-right: 0.25em;color: #696969;}#sk-container-id-2 label.sk-toggleable__label-arrow:hover:before {color: black;}#sk-container-id-2 div.sk-estimator:hover label.sk-toggleable__label-arrow:before {color: black;}#sk-container-id-2 div.sk-toggleable__content {max-height: 0;max-width: 0;overflow: hidden;text-align: left;background-color: #f0f8ff;}#sk-container-id-2 div.sk-toggleable__content pre {margin: 0.2em;color: black;border-radius: 0.25em;background-color: #f0f8ff;}#sk-container-id-2 input.sk-toggleable__control:checked~div.sk-toggleable__content {max-height: 200px;max-width: 100%;overflow: auto;}#sk-container-id-2 input.sk-toggleable__control:checked~label.sk-toggleable__label-arrow:before {content: \"▾\";}#sk-container-id-2 div.sk-estimator input.sk-toggleable__control:checked~label.sk-toggleable__label {background-color: #d4ebff;}#sk-container-id-2 div.sk-label input.sk-toggleable__control:checked~label.sk-toggleable__label {background-color: #d4ebff;}#sk-container-id-2 input.sk-hidden--visually {border: 0;clip: rect(1px 1px 1px 1px);clip: rect(1px, 1px, 1px, 1px);height: 1px;margin: -1px;overflow: hidden;padding: 0;position: absolute;width: 1px;}#sk-container-id-2 div.sk-estimator {font-family: monospace;background-color: #f0f8ff;border: 1px dotted black;border-radius: 0.25em;box-sizing: border-box;margin-bottom: 0.5em;}#sk-container-id-2 div.sk-estimator:hover {background-color: #d4ebff;}#sk-container-id-2 div.sk-parallel-item::after {content: \"\";width: 100%;border-bottom: 1px solid gray;flex-grow: 1;}#sk-container-id-2 div.sk-label:hover label.sk-toggleable__label {background-color: #d4ebff;}#sk-container-id-2 div.sk-serial::before {content: \"\";position: absolute;border-left: 1px solid gray;box-sizing: border-box;top: 0;bottom: 0;left: 50%;z-index: 0;}#sk-container-id-2 div.sk-serial {display: flex;flex-direction: column;align-items: center;background-color: white;padding-right: 0.2em;padding-left: 0.2em;position: relative;}#sk-container-id-2 div.sk-item {position: relative;z-index: 1;}#sk-container-id-2 div.sk-parallel {display: flex;align-items: stretch;justify-content: center;background-color: white;position: relative;}#sk-container-id-2 div.sk-item::before, #sk-container-id-2 div.sk-parallel-item::before {content: \"\";position: absolute;border-left: 1px solid gray;box-sizing: border-box;top: 0;bottom: 0;left: 50%;z-index: -1;}#sk-container-id-2 div.sk-parallel-item {display: flex;flex-direction: column;z-index: 1;position: relative;background-color: white;}#sk-container-id-2 div.sk-parallel-item:first-child::after {align-self: flex-end;width: 50%;}#sk-container-id-2 div.sk-parallel-item:last-child::after {align-self: flex-start;width: 50%;}#sk-container-id-2 div.sk-parallel-item:only-child::after {width: 0;}#sk-container-id-2 div.sk-dashed-wrapped {border: 1px dashed gray;margin: 0 0.4em 0.5em 0.4em;box-sizing: border-box;padding-bottom: 0.4em;background-color: white;}#sk-container-id-2 div.sk-label label {font-family: monospace;font-weight: bold;display: inline-block;line-height: 1.2em;}#sk-container-id-2 div.sk-label-container {text-align: center;}#sk-container-id-2 div.sk-container {/* jupyter's `normalize.less` sets `[hidden] { display: none; }` but bootstrap.min.css set `[hidden] { display: none !important; }` so we also need the `!important` here to be able to override the default hidden behavior on the sphinx rendered scikit-learn.org. See: https://github.com/scikit-learn/scikit-learn/issues/21755 */display: inline-block !important;position: relative;}#sk-container-id-2 div.sk-text-repr-fallback {display: none;}</style><div id=\"sk-container-id-2\" class=\"sk-top-container\"><div class=\"sk-text-repr-fallback\"><pre>SVC(C=0.05, gamma=0.1, kernel=&#x27;poly&#x27;)</pre><b>In a Jupyter environment, please rerun this cell to show the HTML representation or trust the notebook. <br />On GitHub, the HTML representation is unable to render, please try loading this page with nbviewer.org.</b></div><div class=\"sk-container\" hidden><div class=\"sk-item\"><div class=\"sk-estimator sk-toggleable\"><input class=\"sk-toggleable__control sk-hidden--visually\" id=\"sk-estimator-id-4\" type=\"checkbox\" checked><label for=\"sk-estimator-id-4\" class=\"sk-toggleable__label sk-toggleable__label-arrow\">SVC</label><div class=\"sk-toggleable__content\"><pre>SVC(C=0.05, gamma=0.1, kernel=&#x27;poly&#x27;)</pre></div></div></div></div></div>"
      ],
      "text/plain": [
       "SVC(C=0.05, gamma=0.1, kernel='poly')"
      ]
     },
     "execution_count": 69,
     "metadata": {},
     "output_type": "execute_result"
    }
   ],
   "source": [
    "print(\"Best estimator:\")\n",
    "clf.best_estimator_"
   ]
  },
  {
   "cell_type": "code",
   "execution_count": 71,
   "id": "dd4fece6",
   "metadata": {},
   "outputs": [
    {
     "name": "stdout",
     "output_type": "stream",
     "text": [
      "Score of the best estimator:\n"
     ]
    },
    {
     "data": {
      "text/plain": [
       "0.9866666666666667"
      ]
     },
     "execution_count": 71,
     "metadata": {},
     "output_type": "execute_result"
    }
   ],
   "source": [
    "print(\"Score of the best estimator:\")\n",
    "clf.best_score_"
   ]
  },
  {
   "cell_type": "markdown",
   "id": "ff621294",
   "metadata": {},
   "source": [
    "The best parameters are C: 0.05, Gamma: 0.1, and Kernel: Polynomial"
   ]
  },
  {
   "cell_type": "markdown",
   "id": "7a6d4d60",
   "metadata": {},
   "source": [
    "### Question 8\n",
    "\n",
    "Create examples to explain the properties and the importance of the following kernels: Graph kernel, String kernel, Sigmoid kernel. Search on the web."
   ]
  },
  {
   "cell_type": "markdown",
   "id": "3d4ed14e",
   "metadata": {},
   "source": [
    "#### Graph Kernel\n",
    "Graph kernels are used to generalize Support Vector Machines, so they are able to work with graphs. There are different kinds of graph kernels: Random walk kernel, Weisfeiler-Leman graph kernel, shortest path kernel, etc\n",
    "<br>\n",
    "##### A general framework on how Graph Kernels work:\n",
    "For instance we have a collection of graphs that represent various things, and we want to classify these graphs based on what they represent i.e. their labels using an SVM. Because this data is Non-linear we have to convert it into a liner form so we can use SVM, this is were a Graph kernel comes in.\n",
    "<br>\n",
    "When we define a kernel function, it would compute the similarity between all pairs of graphs, and store the scores in  Gram matrix aka kernel matrix. $ G_{ij} = \\langle \\mathbf{x}_i, \\mathbf{x}_j \\rangle$ where $x_{i} and x_{j} $ represents every pair of graphs.\n",
    "<br>\n",
    "Now that we have the Gram matrix, we can apply the SVM. \n",
    "\n",
    "[Reference 1](https://towardsdatascience.com/machine-learning-on-graphs-part-3-b968e1cc1aa3)\n",
    "\n",
    "#### Explaining how a random walk kernel works:\n",
    "Random walks are performed on a pair of graphs, and then number of matching walks are counted. If we have two node-labeled graphs $G_{i} = (V_{i}, E_{i})$ and $G_{j} = (V_{j}, E_{j})$ , their direct product $G_{x} = (V_{x}, E_{x})$ is a graph with vertex set: <br>\n",
    "$V_{x}= {(v_{i}, v_{j}) : v_{i} \\in V_{i} \\land v_{j} \\in V_{j} \\land l(v_{i}) = l(v_{j})} $ <br>\n",
    "and edge set:<br>\n",
    "$E_{x} = {{(v_{i}, v_{j}), (u_{i}, u_{j})} : {v_{i}, u_{i}} \\in E_{i}  \\land {v_{j}, u_{j}} \\in E_{j}}$<br>\n",
    "Performing a random walk on $G_{x}$ is equivalent to performing a simultaneous random walk on $G_{i}$ and $G_{j}$. The geometric random walk kernel counts common walks (of potentially infinite length) in two graphs.<br>\n",
    "[Reference 2](https://ysig.github.io/GraKeL/0.1a7/kernels/random_walk.html)\n",
    "<br> <br>\n",
    "\n"
   ]
  },
  {
   "cell_type": "code",
   "execution_count": 14,
   "id": "198c1ff1",
   "metadata": {},
   "outputs": [],
   "source": [
    "# pip install graphkit-learn"
   ]
  },
  {
   "cell_type": "markdown",
   "id": "4502ef14",
   "metadata": {},
   "source": [
    "#### String Kernel\n",
    "\n",
    "String kernels are used with Support Vector Machines to allow them process strings without having to translate them to fixed-length, real-valued feature vectors. They are used a lot in text mining and gene analysis in computational biology.\n",
    "\n",
    "##### How it works\n",
    "The string kernal function works by measuring the similarity of pairs of string, and storing them in $K(a,b)$. The higher the similarity between two strings, the higher the value of $K(a,b)$.\n",
    "[Reference 1](https://en.wikipedia.org/wiki/String_kernel)\n",
    "<br><br>\n",
    "I would illustrate how the String Kernel works using the [Lodhi et al.](https://www.jmlr.org/papers/volume2/lodhi02a/lodhi02a.pdf) sting kernal. <br>\n",
    "[Reference 2](https://github.com/weekend37/string-kernels/blob/master/example.ipynb)\n",
    "\n",
    "##### How the Lodhi String Kernel works\n",
    "The way it works is that if given two text documents, it compares them by means of the substrings they contain. The more substrings in commons, the higher the similarity level.  They also introduced a decay factor $\\lambda \\in (0,1)$ to handle non-contiguous substrings. This sub-strings do not have to be necessarily contiguous, but the level of contiguity in a sub-string in a document will determine the amount of weight it will have in the comparison. For instance: the sub-string ‘c-a-r’ appears in both ‘card’ and ‘custard’, but with different weighting.\n",
    "\n",
    "Please find the code illustration below:"
   ]
  },
  {
   "cell_type": "code",
   "execution_count": 20,
   "id": "986b22b6",
   "metadata": {},
   "outputs": [],
   "source": [
    "# pip install string-kernels --upgrade"
   ]
  },
  {
   "cell_type": "code",
   "execution_count": 19,
   "id": "61c0f610",
   "metadata": {},
   "outputs": [],
   "source": [
    "# !pip install matplotlib\n",
    "# !pip install scikit-learn"
   ]
  },
  {
   "cell_type": "code",
   "execution_count": 2,
   "id": "2e859a3c",
   "metadata": {},
   "outputs": [],
   "source": [
    "#Accessing Lodhi's string kernel\n",
    "from sklearn import svm\n",
    "from stringkernels.kernels import string_kernel\n",
    "model = svm.SVC(kernel=string_kernel())"
   ]
  },
  {
   "cell_type": "code",
   "execution_count": 15,
   "id": "64a87c9d",
   "metadata": {},
   "outputs": [],
   "source": [
    "#Loading the data\n",
    "samples_train = np.load('samples_train.npy')\n",
    "samples_validation = np.load('samples_validation.npy')\n",
    "ancestry_train = np.load('ancestry_train.npy')\n",
    "ancestry_validation = np.load('ancestry_validation.npy')\n",
    "reference = np.load('reference.npy')\n",
    "populations = np.load('populations.npy')"
   ]
  },
  {
   "cell_type": "code",
   "execution_count": 38,
   "id": "42bb858b",
   "metadata": {},
   "outputs": [
    {
     "name": "stdout",
     "output_type": "stream",
     "text": [
      "number of training samples: 552\n",
      "number of validation samples: 120\n",
      "Sequence length: 1000\n",
      "Number of ancestries: 6\n"
     ]
    }
   ],
   "source": [
    "from stringkernels.utils import load_sample_data\n",
    "#data = load_sample_data()\n",
    "\n",
    "samples_train = np.load('samples_train.npy')\n",
    "samples_validation = np.load('samples_validation.npy')\n",
    "ancestry_train = np.load('ancestry_train.npy')\n",
    "ancestry_validation = np.load('ancestry_validation.npy')\n",
    "reference = np.load('reference.npy')\n",
    "populations = np.load('populations.npy')\n",
    "\n",
    "print(\"number of training samples:\", len(samples_train))\n",
    "print(\"number of validation samples:\", len(samples_validation))\n",
    "print(\"Sequence length:\", len(reference))\n",
    "print(\"Number of ancestries:\", len(populations))"
   ]
  },
  {
   "cell_type": "code",
   "execution_count": 39,
   "id": "95ccdf09",
   "metadata": {},
   "outputs": [
    {
     "data": {
      "text/plain": [
       "array([0, 1, 2, 3, 4, 5])"
      ]
     },
     "execution_count": 39,
     "metadata": {},
     "output_type": "execute_result"
    }
   ],
   "source": [
    "#Converting to binary using reference file\n",
    "X_train = (samples_train != reference).astype(int)\n",
    "\n",
    "#Encoding each ancestry by a number\n",
    "from sklearn import preprocessing\n",
    "le = preprocessing.LabelEncoder()\n",
    "le.fit(ancestry_train)\n",
    "y_train = le.transform(ancestry_train)\n",
    "np.unique(y_train)"
   ]
  },
  {
   "cell_type": "code",
   "execution_count": 40,
   "id": "9d134a25",
   "metadata": {},
   "outputs": [],
   "source": [
    "#Repeating the steps for the validation data\n",
    "X_val = (samples_validation != reference).astype(int)\n",
    "y_val = le.transform(ancestry_validation)"
   ]
  },
  {
   "cell_type": "code",
   "execution_count": 41,
   "id": "0c586fef",
   "metadata": {},
   "outputs": [
    {
     "name": "stdout",
     "output_type": "stream",
     "text": [
      "Validation Accuracy: 59.17%\n"
     ]
    }
   ],
   "source": [
    "#Using a regular SVM on the data\n",
    "svm_model = svm.SVC()\n",
    "svm_model.fit(X_train, y_train)\n",
    "y_pred = svm_model.predict(X_val)\n",
    "svm_accuracy = accuracy_score(y_val, y_pred)\n",
    "print(\"Validation Accuracy: {}%\".format(np.round(svm_accuracy*100, 2)))"
   ]
  },
  {
   "cell_type": "code",
   "execution_count": 42,
   "id": "d64d7349",
   "metadata": {},
   "outputs": [
    {
     "name": "stdout",
     "output_type": "stream",
     "text": [
      "Validation Accuracy: 69.17%\n"
     ]
    }
   ],
   "source": [
    "#Using the string kernel from Lodhi\n",
    "from stringkernels.kernels import string_kernel\n",
    "\n",
    "svm_sk_model = svm.SVC(kernel=string_kernel())\n",
    "svm_sk_model.fit(X_train, y_train)\n",
    "y_pred = svm_sk_model.predict(X_val)\n",
    "svm_sk_accuracy = accuracy_score(y_val, y_pred)\n",
    "print(\"Validation Accuracy: {}%\".format(np.round(svm_sk_accuracy*100, 2)))"
   ]
  },
  {
   "cell_type": "markdown",
   "id": "30b30705",
   "metadata": {},
   "source": [
    "From the above, the stringkernal improved the SVMs performance on the gene sequences data."
   ]
  },
  {
   "cell_type": "markdown",
   "id": "3c242a5f",
   "metadata": {},
   "source": [
    "#### Sigmoid Kernel\n",
    "\n",
    "The function sigmoid_kernel computes the sigmoid kernel between two vectors. The sigmoid kernel is also known as hyperbolic tangent, or Multilayer Perceptron (because, in the neural network field, it is often used as neuron activation function). <br>\n",
    "The sigmoid kernel can model non-linear and sigmoidal relationships between the data points, and it can approximate the neural network activation function. It’s particularly suited for problems where the decision boundary is expected to be S-shaped or take on a sigmoidal form.\n",
    "It works by taking your input, mapping them to a value of 0 and 1 so that they can be separated by a simple straight line.\n",
    "\n",
    "It is defined as:\n",
    "\n",
    "$k(x,y) = tanh(\\gamma x^{T}y + c_{0})$\n",
    "<br>\n",
    "where: <br>\n",
    "x, y are the input vectors <br>\n",
    "$\\gamma $ is known as slope <br>\n",
    "$c_{0}$ is known as intercept, It is the central vertical bias that changes the height of the kernel’s output for inputs near the origin. It shifts the operating point on the sigmoid, affecting the relative emphasis of the angle between the inputs.<br>\n",
    "tanh is the hyperbolic tangent function<br>\n",
    "\n",
    "Assuming we have two feature vectors $x = \\begin{bmatrix} x_1\\\\ x_2\\\\.\\\\.\\\\.\\\\x_n \\end{bmatrix}$ and $y = \\begin{bmatrix} y_1\\\\y_2\\\\.\\\\.\\\\.\\\\y_n \\end{bmatrix}$\n",
    "<br>\n",
    "\n",
    "Then $x^{T}y = \\begin{bmatrix} x_1&x_2&.&.&.&x_n \\end{bmatrix}\\begin{bmatrix} y_1\\\\y_2\\\\.\\\\.\\\\.\\\\y_n \\end{bmatrix}$\n",
    "\n",
    "\n",
    "The parameters '$\\gamma $' and '$c_{0}$' are pivotal and need careful tuning to ensure model accuracy, finding the right values for these parameters can be a challenge. Another thing to note is that sigmoid kernel usually works better for binary classifications than multiclass.\n",
    "\n",
    "[Reference 1](https://scikit-learn.org/stable/modules/metrics.html#sigmoid-kernel)<br>\n",
    "[Reference 2](https://www.linkedin.com/advice/0/what-best-kernel-functions-support-vector-machine-13hme#:~:text=The%20sigmoid%20kernel%20can%20model,have%20discrete%20and%20logical%20values.)<br>\n",
    "[Reference 3](https://www.analyticsvidhya.com/blog/2021/10/support-vector-machinessvm-a-complete-guide-for-beginners/)<br>\n"
   ]
  },
  {
   "cell_type": "code",
   "execution_count": 51,
   "id": "e1c8b5e6",
   "metadata": {},
   "outputs": [],
   "source": [
    "import pandas as pd\n",
    "from sklearn.metrics import classification_report"
   ]
  },
  {
   "cell_type": "code",
   "execution_count": 58,
   "id": "1a9bdbf6",
   "metadata": {},
   "outputs": [
    {
     "name": "stdout",
     "output_type": "stream",
     "text": [
      "Accuracy: 0.3333333333333333\n"
     ]
    }
   ],
   "source": [
    "from sklearn import datasets \n",
    "from sklearn.svm import SVC \n",
    "from sklearn.metrics import accuracy_score\n",
    "\n",
    "# Load Iris dataset\n",
    "iris = datasets.load_iris()\n",
    "sepal_length = iris.data[:,0] \n",
    "sepal_width = iris.data[:,1]\n",
    "\n",
    "# Train sigmoid SVM classifier\n",
    "clf = SVC(kernel='sigmoid', gamma='auto') \n",
    "clf.fit(np.c_[sepal_length, sepal_width], iris.target) \n",
    "\n",
    "# Make predictions\n",
    "predictions = clf.predict(np.c_[sepal_length, sepal_width])\n",
    "\n",
    "#assessing perfomance of sigmoid SVM \n",
    "accuracy = accuracy_score(iris.target, predictions)\n",
    "print(\"Accuracy:\", accuracy)\n"
   ]
  },
  {
   "cell_type": "markdown",
   "id": "7feecc89",
   "metadata": {},
   "source": [
    "The Sigmoid kernel performs very poorly on the iris data set above, this is because the iris dataset contains values that are outside the range of 0 and 1. The Sigmoid kernel performs better when the values are scaled as shown below:<br>\n",
    "[Reference 4](https://towardsdatascience.com/a-guide-to-svm-parameter-tuning-8bfe6b8a452c)"
   ]
  },
  {
   "cell_type": "code",
   "execution_count": 62,
   "id": "abf27a08",
   "metadata": {},
   "outputs": [
    {
     "name": "stdout",
     "output_type": "stream",
     "text": [
      "Accuracy: 0.7666666666666667\n"
     ]
    }
   ],
   "source": [
    "sepal_length = iris.data[:,0] \n",
    "sepal_width = iris.data[:,1]\n",
    "\n",
    "#normalizing features\n",
    "from sklearn.preprocessing import normalize \n",
    "sepal_length_norm = normalize(sepal_length.reshape(1, -1))[0] \n",
    "sepal_width_norm = normalize(sepal_width.reshape(1, -1))[0] \n",
    "\n",
    "# Train sigmoid SVM classifier\n",
    "clf = SVC(kernel='sigmoid', gamma='auto') \n",
    "clf.fit(np.c_[sepal_length_norm, sepal_width_norm], iris.target) \n",
    "\n",
    "\n",
    "# Make predictions\n",
    "pr_norm=clf.predict(np.c_[sepal_length_norm, sepal_width_norm])\n",
    "\n",
    "#assessing perfomance of sigmoid SVM with normalized features\n",
    "accuracy = accuracy_score(iris.target, pr_norm)\n",
    "print(\"Accuracy:\", accuracy)\n",
    "#pd.DataFrame(classification_report(iris.target, pr_norm, output_dict=True))\n",
    "\n"
   ]
  },
  {
   "cell_type": "markdown",
   "id": "0a8ff824",
   "metadata": {},
   "source": [
    "---------------------------------------END--------------------------------------------------------"
   ]
  },
  {
   "cell_type": "code",
   "execution_count": 12,
   "id": "c17ce4b0",
   "metadata": {},
   "outputs": [],
   "source": [
    "# import numpy as np\n",
    "# from sklearn.svm import SVC\n",
    "# from sklearn.metrics import accuracy_score\n",
    "\n",
    "# # Define the graph dataset\n",
    "# graphs = {\n",
    "#     'triangle': np.array([[0, 1, 1],\n",
    "#                            [1, 0, 1],\n",
    "#                            [1, 1, 0]]),\n",
    "#     'square': np.array([[1, 1, 1],\n",
    "#                         [1, 1, 1],\n",
    "#                         [1, 1, 1]]),\n",
    "#     'circle': np.array([[0, 1, 0],\n",
    "#                         [1, 1, 1],\n",
    "#                         [0, 1, 0]])\n",
    "# }\n",
    "\n",
    "# # Define labels for the graphs\n",
    "# labels = {'triangle': 0, 'square': 1, 'circle': 2}\n",
    "\n",
    "# # Scenario 1: Without Kernel\n",
    "# X_train_without_kernel = np.array([graph.flatten() for graph in graphs.values()])\n",
    "# y_train_without_kernel = [labels[key] for key in graphs.keys()]\n",
    "# svm_classifier_without_kernel = SVC(kernel='linear')\n",
    "# svm_classifier_without_kernel.fit(X_train_without_kernel, y_train_without_kernel)\n",
    "\n",
    "# # Scenario 2: With Kernel (using graph_kernel function)\n",
    "# def graph_kernel(graph1, graph2):\n",
    "#     return np.sum(graph1 == graph2)\n",
    "\n",
    "# # Compute the Gram matrix\n",
    "# n_graphs = len(graphs)\n",
    "# gram_matrix = np.zeros((n_graphs, n_graphs))\n",
    "# for i in range(n_graphs):\n",
    "#     for j in range(n_graphs):\n",
    "#         gram_matrix[i, j] = graph_kernel(graphs[list(graphs.keys())[i]], graphs[list(graphs.keys())[j]])\n",
    "\n",
    "# # Train SVM classifier using the Gram matrix\n",
    "# svm_classifier_with_kernel = SVC(kernel='precomputed')\n",
    "# svm_classifier_with_kernel.fit(gram_matrix, y_train_without_kernel)\n",
    "\n",
    "# # Evaluate accuracy scores\n",
    "# accuracy_without_kernel = accuracy_score(y_train_without_kernel, svm_classifier_without_kernel.predict(X_train_without_kernel))\n",
    "# accuracy_with_kernel = accuracy_score(y_train_without_kernel, svm_classifier_with_kernel.predict(gram_matrix))\n",
    "\n",
    "# # Output the accuracy scores\n",
    "# print(\"Accuracy without kernel:\", accuracy_without_kernel)\n",
    "# print(\"Accuracy with kernel:\", accuracy_with_kernel)\n"
   ]
  },
  {
   "cell_type": "code",
   "execution_count": null,
   "id": "fb8a3e33",
   "metadata": {},
   "outputs": [],
   "source": []
  }
 ],
 "metadata": {
  "kernelspec": {
   "display_name": "Python 3 (ipykernel)",
   "language": "python",
   "name": "python3"
  },
  "language_info": {
   "codemirror_mode": {
    "name": "ipython",
    "version": 3
   },
   "file_extension": ".py",
   "mimetype": "text/x-python",
   "name": "python",
   "nbconvert_exporter": "python",
   "pygments_lexer": "ipython3",
   "version": "3.11.4"
  }
 },
 "nbformat": 4,
 "nbformat_minor": 5
}
